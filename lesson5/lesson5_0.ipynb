{
 "cells": [
  {
   "cell_type": "code",
   "execution_count": 1,
   "metadata": {},
   "outputs": [],
   "source": [
    "ranges = {\n",
    "    (0, 18.5): \"too light\",\n",
    "    (18.5, 24): \"normal\",\n",
    "    (24, 27): \"heavy\",\n",
    "    (27, 30): \"light fat\",\n",
    "    (30, 35): \"middle fat\",\n",
    "    (35, 999): \"overweight\",\n",
    "}\n",
    "\n",
    "\n",
    "def get_bmi(\n",
    "    height: float,\n",
    "    weight: float\n",
    ") -> (float, str):\n",
    "    bmi = weight / ((height/100) ** 2)\n",
    "    for min, max in ranges:\n",
    "        if bmi < min or bmi >= max:\n",
    "            continue \n",
    "        return bmi, ranges[min, max]"
   ]
  }
 ],
 "metadata": {
  "kernelspec": {
   "display_name": "Veronica",
   "language": "python",
   "name": "python3"
  },
  "language_info": {
   "codemirror_mode": {
    "name": "ipython",
    "version": 3
   },
   "file_extension": ".py",
   "mimetype": "text/x-python",
   "name": "python",
   "nbconvert_exporter": "python",
   "pygments_lexer": "ipython3",
   "version": "3.11.9"
  }
 },
 "nbformat": 4,
 "nbformat_minor": 2
}
